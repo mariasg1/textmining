{
 "cells": [
  {
   "cell_type": "code",
   "execution_count": 2,
   "metadata": {},
   "outputs": [],
   "source": [
    "import warnings\n",
    "warnings.filterwarnings('ignore')"
   ]
  },
  {
   "cell_type": "code",
   "execution_count": 191,
   "metadata": {},
   "outputs": [],
   "source": [
    "import matplotlib.pyplot as plt\n",
    "import pandas as pd\n",
    "import numpy as np  \n",
    "import re  \n",
    "import nltk  \n",
    "from sklearn.datasets import load_files  \n",
    "#nltk.download('stopwords')  \n",
    "from nltk.corpus import stopwords  \n",
    "from sklearn.model_selection import train_test_split,GridSearchCV\n",
    "from sklearn.metrics import accuracy_score,confusion_matrix\n",
    "from nltk.stem import WordNetLemmatizer\n",
    "from sklearn.feature_extraction.text import TfidfVectorizer\n",
    "from sklearn.naive_bayes import GaussianNB\n",
    "from sklearn.pipeline import Pipeline\n",
    "from sklearn.svm import SVC\n",
    "from sklearn.ensemble import RandomForestClassifier\n",
    "from sklearn.cluster import KMeans\n",
    "from sklearn.mixture import GaussianMixture as GMM\n",
    "from sklearn.cluster import AgglomerativeClustering"
   ]
  },
  {
   "cell_type": "markdown",
   "metadata": {},
   "source": [
    "# Precision Medicine"
   ]
  },
  {
   "cell_type": "markdown",
   "metadata": {},
   "source": [
    "Detect relevant PubMed citations describing genetic mutations altering protein-protein interactions\n",
    "\n",
    "\n",
    "Training datasets:\n",
    "\n",
    "1. positive_training_abstracts.tsv\n",
    "Positive training set of abstracts \n",
    "\n",
    "2. negative_training_abstracts.tsv\n",
    "Negative training set of non-relevant abstracts "
   ]
  },
  {
   "cell_type": "code",
   "execution_count": 4,
   "metadata": {},
   "outputs": [],
   "source": [
    "# Read the data\n",
    "data_positive = pd.read_csv('positive_training_abstracts.tsv', sep='\\t', header=None)\n",
    "data_negative = pd.read_csv('negative_training_abstracts.tsv', sep='\\t', header=None)"
   ]
  },
  {
   "cell_type": "code",
   "execution_count": 5,
   "metadata": {},
   "outputs": [],
   "source": [
    "# Abstracts are in the second colum of the dataframa\n",
    "X_pos = data_positive[2]\n",
    "X_neg = data_negative[2]\n",
    "\n",
    "# We label positive publications with one and negative with 0\n",
    "y_pos =  np.ones((len(X_pos),), dtype=int)\n",
    "y_neg =  np.zeros((len(X_neg),), dtype=int)\n",
    "\n",
    "# Create the data and labels arrays\n",
    "X_init = np.append(X_pos,X_neg)\n",
    "y = np.append(y_pos,y_neg)"
   ]
  },
  {
   "cell_type": "markdown",
   "metadata": {},
   "source": [
    "# Pre-processing"
   ]
  },
  {
   "cell_type": "code",
   "execution_count": 7,
   "metadata": {},
   "outputs": [],
   "source": [
    "def preprocessing(X):\n",
    "\n",
    "    corpus = []\n",
    "\n",
    "    stemmer = WordNetLemmatizer()\n",
    "\n",
    "    for i in range(0, len(X)):  \n",
    "        \n",
    "        \n",
    "        # Remove special characters\n",
    "        doc = re.sub(r'\\W', ' ', str(X[i]))\n",
    "        \n",
    "        # remove all single characters\n",
    "        doc = re.sub(r'\\s+[a-zA-Z]\\s+', ' ', doc)\n",
    "\n",
    "        # Remove single characters from the start\n",
    "        doc = re.sub(r'\\^[a-zA-Z]\\s+', ' ', doc) \n",
    "\n",
    "        # Substitute multiple spaces with single space\n",
    "        doc = re.sub(r'\\s+', ' ', doc, flags=re.I)\n",
    "\n",
    "        # Lemmatization\n",
    "        doc = doc.split()\n",
    "\n",
    "        doc = [stemmer.lemmatize(word) for word in doc]\n",
    "        doc = ' '.join(doc)\n",
    "\n",
    "        corpus.append(doc)\n",
    "    \n",
    "    return corpus"
   ]
  },
  {
   "cell_type": "code",
   "execution_count": 8,
   "metadata": {},
   "outputs": [
    {
     "data": {
      "text/plain": [
       "'Store-operated Ca(2+) entry occurs through the binding of the endoplasmic reticulum (ER) Ca(2+) sensor STIM1 to Orai1, the pore-forming subunit of the Ca(2+) release-activated Ca(2+) (CRAC) channel. Although the essential steps leading to channel opening have been described, fundamental questions remain, including the functional stoichiometry of the CRAC channel. The crystal structure of Drosophila Orai indicates a hexameric stoichiometry, while studies of linked Orai1 concatemers and single-molecule photobleaching suggest that channels assemble as tetramers. We assessed CRAC channel stoichiometry by expressing hexameric concatemers of human Orai1 and comparing in detail their ionic currents to those of native CRAC channels and channels generated from monomeric Orai1 constructs. Cell surface biotinylation results indicated that Orai1 channels in the plasma membrane were assembled from intact hexameric polypeptides and not from truncated protein products. In addition, the L273D mutation depressed channel activity equally regardless of which Orai1 subunit in the concatemer carried the mutation. Thus, functional channels were generated from intact Orai1 hexamers in which all subunits contributed equally. These hexameric Orai1 channels displayed the biophysical fingerprint of native CRAC channels, including the distinguishing characteristics of gating (store-dependent activation, Ca(2+)-dependent inactivation, open probability), permeation (ion selectivity, affinity for Ca(2+) block, La(3+) sensitivity, unitary current magnitude), and pharmacology (enhancement and inhibition by 2-aminoethoxydiphenyl borate). Because permeation characteristics depend strongly on pore geometry, it is unlikely that hexameric and tetrameric pores would display identical Ca(2+) affinity, ion selectivity, and unitary current magnitude. Thus, based on the highly similar pore properties of the hexameric Orai1 concatemer and native CRAC channels, we conclude that the CRAC channel functions as a hexamer of Orai1 subunits.'"
      ]
     },
     "execution_count": 8,
     "metadata": {},
     "output_type": "execute_result"
    }
   ],
   "source": [
    "# Before preprocessing\n",
    "X_init[1]"
   ]
  },
  {
   "cell_type": "code",
   "execution_count": 79,
   "metadata": {},
   "outputs": [],
   "source": [
    "corpus = preprocessing(X_init)"
   ]
  },
  {
   "cell_type": "code",
   "execution_count": 10,
   "metadata": {},
   "outputs": [
    {
     "data": {
      "text/plain": [
       "'Store operated Ca 2 entry occurs through the binding of the endoplasmic reticulum ER Ca 2 sensor STIM1 to Orai1 the pore forming subunit of the Ca 2 release activated Ca 2 CRAC channel Although the essential step leading to channel opening have been described fundamental question remain including the functional stoichiometry of the CRAC channel The crystal structure of Drosophila Orai indicates hexameric stoichiometry while study of linked Orai1 concatemers and single molecule photobleaching suggest that channel assemble a tetramers We assessed CRAC channel stoichiometry by expressing hexameric concatemers of human Orai1 and comparing in detail their ionic current to those of native CRAC channel and channel generated from monomeric Orai1 construct Cell surface biotinylation result indicated that Orai1 channel in the plasma membrane were assembled from intact hexameric polypeptide and not from truncated protein product In addition the L273D mutation depressed channel activity equally regardless of which Orai1 subunit in the concatemer carried the mutation Thus functional channel were generated from intact Orai1 hexamers in which all subunit contributed equally These hexameric Orai1 channel displayed the biophysical fingerprint of native CRAC channel including the distinguishing characteristic of gating store dependent activation Ca 2 dependent inactivation open probability permeation ion selectivity affinity for Ca 2 block La 3 sensitivity unitary current magnitude and pharmacology enhancement and inhibition by 2 aminoethoxydiphenyl borate Because permeation characteristic depend strongly on pore geometry it is unlikely that hexameric and tetrameric pore would display identical Ca 2 affinity ion selectivity and unitary current magnitude Thus based on the highly similar pore property of the hexameric Orai1 concatemer and native CRAC channel we conclude that the CRAC channel function a hexamer of Orai1 subunit'"
      ]
     },
     "execution_count": 10,
     "metadata": {},
     "output_type": "execute_result"
    }
   ],
   "source": [
    "# After preprocessing\n",
    "corpus[1]"
   ]
  },
  {
   "cell_type": "markdown",
   "metadata": {},
   "source": [
    "# Selection of parameters"
   ]
  },
  {
   "cell_type": "code",
   "execution_count": null,
   "metadata": {},
   "outputs": [],
   "source": [
    "# First of all, we will try different numbers of selected features to identify the number that \n",
    "# maximizes the accuracy of a simple classifier as Gaussian Naive Bayes"
   ]
  },
  {
   "cell_type": "code",
   "execution_count": 145,
   "metadata": {},
   "outputs": [],
   "source": [
    "# Convert corpus of documents to a matrix of words\n",
    "# Scale down the impact of tokens that occur very frequently in the corpus \n",
    "\n",
    "# By default it converts to lowercase and uses l2 norm (cosine)\n",
    "def tfidf(documents,maxfeat=None,mindf=5,maxdf=0.7,nrm='l2'):\n",
    "    tfidfconverter = TfidfVectorizer(max_features=maxfeat, \n",
    "                                 min_df=mindf, max_df=maxdf, # Frequent and rare words removal\n",
    "                                 stop_words=stopwords.words('english'),norm=nrm)  # Remove stopwords \n",
    "    X = tfidfconverter.fit_transform(documents).toarray()  \n",
    "    return X"
   ]
  },
  {
   "cell_type": "code",
   "execution_count": 146,
   "metadata": {},
   "outputs": [],
   "source": [
    "nfeat = [100,500,700,800,900,1000,1500,5000,None]"
   ]
  },
  {
   "cell_type": "code",
   "execution_count": 147,
   "metadata": {},
   "outputs": [],
   "source": [
    "accuracy = []\n",
    "for i in range (0,len(nfeat)):\n",
    "    X = tfidf(documents = corpus, maxfeat=nfeat[i])\n",
    "    X_train, X_test, y_train, y_test = train_test_split(X, y, test_size=0.2, random_state=0)\n",
    "    classifier = GaussianNB()\n",
    "    classifier.fit(X_train,y_train)\n",
    "    accuracy.append(classifier.score(X_test, y_test))\n",
    "    "
   ]
  },
  {
   "cell_type": "code",
   "execution_count": 148,
   "metadata": {},
   "outputs": [
    {
     "name": "stdout",
     "output_type": "stream",
     "text": [
      "[0.9283088235294118, 0.9430147058823529, 0.9442401960784313, 0.9442401960784313, 0.9424019607843137, 0.9381127450980392, 0.9375, 0.9307598039215687, 0.9215686274509803]\n"
     ]
    }
   ],
   "source": [
    "print(accuracy)"
   ]
  },
  {
   "cell_type": "code",
   "execution_count": 149,
   "metadata": {},
   "outputs": [
    {
     "data": {
      "text/plain": [
       "Text(0, 0.5, 'GaussianNB accuracy')"
      ]
     },
     "execution_count": 149,
     "metadata": {},
     "output_type": "execute_result"
    },
    {
     "data": {
      "image/png": "[encoded data removed]",
      "text/plain": [
       "<Figure size 432x288 with 1 Axes>"
      ]
     },
     "metadata": {},
     "output_type": "display_data"
    }
   ],
   "source": [
    "plt.plot(nfeat, accuracy, marker='o')\n",
    "plt.xlabel('Max features')\n",
    "plt.ylabel('GaussianNB accuracy')"
   ]
  },
  {
   "cell_type": "markdown",
   "metadata": {},
   "source": [
    "We will use a maximum number of features of 700 as a trade-off between performance and complexity.\n",
    "\n",
    "Using l2 or l1 norm didn't make any difference in the results. "
   ]
  },
  {
   "cell_type": "code",
   "execution_count": 151,
   "metadata": {},
   "outputs": [],
   "source": [
    "best_n_feat = 700"
   ]
  },
  {
   "cell_type": "markdown",
   "metadata": {},
   "source": [
    "We will evaluate the impact of max_df and min_df for the performance of the GaussianNB classifier\n",
    "\n",
    "max_df is used for removing terms that appear too frequently. i.e.\n",
    "\n",
    "max_df = 0.50 means \"ignore terms that appear in more than 50% of the documents\".\n",
    "Thus, the default setting does not ignore any terms.\n",
    "\n",
    "min_df is used for removing terms that appear too infrequently. i.e.\n",
    "\n",
    "min_df = 5 means \"ignore terms that appear in less than 5 documents\".\n",
    "The default min_df is 1, which means \"ignore terms that appear in less than 1 document\". \n"
   ]
  },
  {
   "cell_type": "code",
   "execution_count": 161,
   "metadata": {},
   "outputs": [],
   "source": [
    "# We will try different combinations of these values\n",
    "maxdf_test = [0.25, 0.5, 0.75]\n",
    "mindf_test = [1, 5, 10]\n",
    "accuracy = np.zeros((len(maxdf_test), len(mindf_test)))\n",
    "for i in range (0,len(maxdf_test)):\n",
    "    for j in range (0,len(mindf_test)):\n",
    "        X = tfidf(documents = corpus, maxfeat=best_n_feat, mindf=mindf_test[j],maxdf=maxdf_test[i])\n",
    "        X_train, X_test, y_train, y_test = train_test_split(X, y, test_size=0.2, random_state=0)\n",
    "        classifier = GaussianNB()\n",
    "        classifier.fit(X_train,y_train)\n",
    "        accuracy[i][j] = classifier.score(X_test, y_test)"
   ]
  },
  {
   "cell_type": "code",
   "execution_count": 162,
   "metadata": {},
   "outputs": [
    {
     "name": "stdout",
     "output_type": "stream",
     "text": [
      "[[0.94362745 0.94362745 0.94362745]\n",
      " [0.9442402  0.94485294 0.9442402 ]\n",
      " [0.94485294 0.9442402  0.9442402 ]]\n"
     ]
    }
   ],
   "source": [
    "print(accuracy)"
   ]
  },
  {
   "cell_type": "code",
   "execution_count": 167,
   "metadata": {},
   "outputs": [],
   "source": [
    "# The impact is not very significative, but we will pick up the values\n",
    "# that procude a better accuracy score for the GaussianNB classifier\n",
    "best_maxdf = 0.75\n",
    "best_mindf = 5\n",
    "X = tfidf(documents = corpus, maxfeat=best_n_feat, mindf=best_mindf,maxdf=best_maxdf)"
   ]
  },
  {
   "cell_type": "markdown",
   "metadata": {},
   "source": [
    "# Classification"
   ]
  },
  {
   "cell_type": "code",
   "execution_count": 168,
   "metadata": {},
   "outputs": [],
   "source": [
    "# Split the data in train and test\n",
    "# By default this method shuffles the data and stratifies the train and test partitions\n",
    "X_train, X_test, y_train, y_test = train_test_split(X, y, test_size=0.2, random_state=0) "
   ]
  },
  {
   "cell_type": "code",
   "execution_count": 169,
   "metadata": {},
   "outputs": [
    {
     "name": "stdout",
     "output_type": "stream",
     "text": [
      "Score of Gaussian NB in test : 0.944\n"
     ]
    }
   ],
   "source": [
    "#Naive Bayes\n",
    "classifier = GaussianNB()\n",
    "classifier.fit(X_train,y_train)\n",
    "print('Score of Gaussian NB in test : %.3f' % classifier.score(X_test, y_test))"
   ]
  },
  {
   "cell_type": "code",
   "execution_count": 177,
   "metadata": {},
   "outputs": [
    {
     "name": "stdout",
     "output_type": "stream",
     "text": [
      "Score of RF in test : 0.961\n"
     ]
    }
   ],
   "source": [
    "# Random Forest\n",
    "\n",
    "classifier = RandomForestClassifier(n_estimators=1000, random_state=0)  \n",
    "classifier.fit(X_train, y_train) \n",
    "y_pred = classifier.predict(X_test)  \n",
    "print('Score of RF in test : %.3f' % classifier.score(X_test, y_test))"
   ]
  },
  {
   "cell_type": "code",
   "execution_count": 173,
   "metadata": {},
   "outputs": [
    {
     "name": "stdout",
     "output_type": "stream",
     "text": [
      "Score of SVM in test : 0.971\n"
     ]
    }
   ],
   "source": [
    "# Support Vector Machines with grid search for hyperparameter selection\n",
    "\n",
    "parameters = {'kernel':('linear', 'rbf'), \n",
    "              'C':(1,0.5)}\n",
    "classifier = GridSearchCV(SVC(), param_grid=parameters,cv=5)\n",
    "classifier.fit(X_train,y_train)\n",
    "print('Score of SVM in test : %.3f' % classifier.score(X_test, y_test))"
   ]
  },
  {
   "cell_type": "code",
   "execution_count": 176,
   "metadata": {},
   "outputs": [
    {
     "name": "stdout",
     "output_type": "stream",
     "text": [
      "{'C': 0.5, 'kernel': 'linear'}\n"
     ]
    }
   ],
   "source": [
    "print(classifier.best_params_)"
   ]
  },
  {
   "cell_type": "markdown",
   "metadata": {},
   "source": [
    "- Which tips can you give about constructing an automatic text classifier? What do you recommend to do? What do you recommend not to do?\n",
    "- What is the best classifier you have obtained?"
   ]
  },
  {
   "cell_type": "markdown",
   "metadata": {},
   "source": [
    "# Clustering"
   ]
  },
  {
   "cell_type": "code",
   "execution_count": 39,
   "metadata": {},
   "outputs": [
    {
     "name": "stdout",
     "output_type": "stream",
     "text": [
      "\n",
      "Number of components that explain 99% of variance: 1443\n",
      "Total variance explained (%) by these components: 99.00719233603871\n"
     ]
    }
   ],
   "source": [
    "# Standarization and PCA.\n",
    "from sklearn.preprocessing import StandardScaler\n",
    "from sklearn.decomposition import PCA\n",
    "\n",
    "X_std = StandardScaler().fit_transform(X)\n",
    "\n",
    "# define the PCA algorithm with the maximum number of parameters,\n",
    "# and fit PCA algorithm to the data\n",
    "X_pca = PCA().fit(X_std)\n",
    "\n",
    "# obtain the minimum number of components needed to retain 99% of variance \n",
    "var_ratio = X_pca.explained_variance_ratio_\n",
    "variance = 0.99\n",
    "X_cumsum_var_ratio = np.cumsum(var_ratio)\n",
    "n_components = np.where(X_cumsum_var_ratio >= variance)[0][0] + 1\n",
    "print('\\nNumber of components that explain 99% of variance:', n_components)\n",
    "print('Total variance explained (%) by these components:', X_cumsum_var_ratio[n_components-1]*100)\n",
    "\n",
    "# Project data into the PCA\n",
    "X_pca = X_pca.transform(X_std)[:, :n_components]"
   ]
  },
  {
   "cell_type": "code",
   "execution_count": 52,
   "metadata": {},
   "outputs": [],
   "source": [
    "# Standarization and PCA.\n",
    "from sklearn.preprocessing import StandardScaler\n",
    "from sklearn.decomposition import PCA\n",
    "\n",
    "X_pca = StandardScaler().fit_transform(X)\n",
    "\n",
    "# define the PCA algorithm with the maximum number of parameters,\n",
    "# and fit PCA algorithm to the data\n",
    "#X_pca = PCA().fit(X_std)\n",
    "#X_pca = PCA(n_components=5).fit_transform(X_std)"
   ]
  },
  {
   "cell_type": "code",
   "execution_count": 178,
   "metadata": {},
   "outputs": [],
   "source": [
    "from sklearn.cluster import KMeans\n",
    "\n",
    "# number of clusters: 2 (we know from the original data that there are 2 classes: Positive and Negative)\n",
    "\n",
    "# k-means\n",
    "kmeans = KMeans(n_clusters=2,\n",
    "                init='random', # random or kmeans++ (more efficient)\n",
    "                n_init=10,  # number of repetitions (to avoid local minima)\n",
    "                max_iter=500,\n",
    "                random_state=2)\n",
    "kmeans.fit(X)\n",
    "y_kmeans = kmeans.predict(X)"
   ]
  },
  {
   "cell_type": "code",
   "execution_count": 183,
   "metadata": {},
   "outputs": [],
   "source": [
    "def results_clustering(y_true,y_pred,labels):\n",
    "\n",
    "    for i in np.unique(labels):\n",
    "        \n",
    "        inds = (np.where(np.array(labels) == i))[0]\n",
    "        print('\\033[1m'+'- Cluster %d' % i + '\\033[0m')\n",
    "        print('  %g%% of total patterns' % (100*len(inds)/len(labels)))\n",
    "    \n",
    "    matches = np.sum(y_true == y_pred)\n",
    "    print('Clustering algorithm was correct',  matches , 'out of', y_true.shape[0], \n",
    "      '(' + str(round(matches/y_true.shape[0]*100, 1)) + '%)')"
   ]
  },
  {
   "cell_type": "code",
   "execution_count": 184,
   "metadata": {},
   "outputs": [
    {
     "name": "stdout",
     "output_type": "stream",
     "text": [
      "\u001b[1m- Cluster 0\u001b[0m\n",
      "  45.3409% of total patterns\n",
      "\u001b[1m- Cluster 1\u001b[0m\n",
      "  54.6591% of total patterns\n",
      "Clustering algorithm was correct 7714 out of 8156 (94.6%)\n"
     ]
    }
   ],
   "source": [
    "results_clustering(y,y_kmeans,kmeans.labels_)"
   ]
  },
  {
   "cell_type": "code",
   "execution_count": null,
   "metadata": {},
   "outputs": [],
   "source": [
    "# Visualize the results on PCA-reduced data?"
   ]
  },
  {
   "cell_type": "markdown",
   "metadata": {},
   "source": [
    "- Which tips can you give about constructing a text clustering with k-means? What do you recommend to do? What do you recommend not to do?\n",
    "- What is the best clustering you have obtained? The quality of the cluster is the degree of correspondence between real class and assigned cluster. For example:\n",
    "o If there are 2 clusters and cluster 0 contains all examples of positive class and cluster 1 contains all examples of negative class, the clustering is perfect.\n",
    "o If there are 2 clusters and cluster 1 contains all examples of positive class and cluster 0 contains all examples of negative class, the clustering is also perfect.\n",
    "o If there are 2 clusters and cluster 0 contains 50% of examples of positive class and 50% of examples of negative class, and statistics in cluster 1 are similar, the clustering quality is the worst possible."
   ]
  },
  {
   "cell_type": "markdown",
   "metadata": {},
   "source": [
    "# Clustering 5 clases"
   ]
  },
  {
   "cell_type": "code",
   "execution_count": 185,
   "metadata": {},
   "outputs": [],
   "source": [
    "# Read the data\n",
    "data_AE = pd.read_csv('Alzheimer_abstracts.tsv', sep='\\t', header=None)\n",
    "data_bladder = pd.read_csv('Bladder_Cancer_abstracts.tsv', sep='\\t', header=None)\n",
    "data_breast = pd.read_csv('Breast_Cancer_abstracts.tsv', sep='\\t', header=None)\n",
    "data_cervical = pd.read_csv('Cervical_Cancer_abstracts.tsv', sep='\\t', header=None)\n",
    "data_neg = pd.read_csv('negative_abstracts.tsv', sep='\\t', header=None)"
   ]
  },
  {
   "cell_type": "code",
   "execution_count": 196,
   "metadata": {},
   "outputs": [],
   "source": [
    "# Abstracts are in the second colum of the dataframe\n",
    "X_AE= data_AE[2]\n",
    "X_bladder= data_bladder[2]\n",
    "X_breast= data_breast[2]\n",
    "X_cervical = data_cervical[2]\n",
    "#X_neg = data_negative[2]\n",
    "\n",
    "# We label the publications with a number\n",
    "#y_neg =  np.zeros((len(X_neg),), dtype=int)\n",
    "y_AE =  np.ones((len(X_AE),), dtype=int)\n",
    "y_bladder =  np.ones((len(X_bladder),), dtype=int)*2\n",
    "y_breast =  np.ones((len(X_breast),), dtype=int)*3\n",
    "y_cervical =  np.ones((len(X_cervical),), dtype=int)*4\n",
    "\n",
    "# Create the data and labels arrays\n",
    "X_init = np.concatenate((X_AE, X_bladder, X_breast, X_cervical), axis=None)\n",
    "y = np.concatenate((y_AE, y_bladder, y_breast, y_cervical), axis=None)"
   ]
  },
  {
   "cell_type": "code",
   "execution_count": 197,
   "metadata": {},
   "outputs": [],
   "source": [
    "corpus = preprocessing(X_init)"
   ]
  },
  {
   "cell_type": "code",
   "execution_count": 198,
   "metadata": {},
   "outputs": [],
   "source": [
    "# Convert corpus of documents to a matrix of words\n",
    "# Scale down the impact of tokens that occur very frequently in the corpus \n",
    "\n",
    "# By default it converts to lowercase and uses l2 norm (cosine)\n",
    "tfidfconverter = TfidfVectorizer(max_features=5000, \n",
    "                                 min_df=5, max_df=0.7, # Frequent and rare words removal\n",
    "                                 stop_words=stopwords.words('english'))  # Remove stopwords \n",
    "X = tfidfconverter.fit_transform(corpus).toarray() "
   ]
  },
  {
   "cell_type": "code",
   "execution_count": 199,
   "metadata": {},
   "outputs": [],
   "source": [
    "# Split the data in train and test\n",
    "# By default this method shuffles the data and stratifies the train and test partitions\n",
    "X_train, X_test, y_train, y_test = train_test_split(X, y, test_size=0.2, random_state=0) "
   ]
  },
  {
   "cell_type": "code",
   "execution_count": 200,
   "metadata": {},
   "outputs": [
    {
     "name": "stdout",
     "output_type": "stream",
     "text": [
      "\u001b[1m- Cluster 0\u001b[0m\n",
      "  20% of total patterns\n",
      "\u001b[1m- Cluster 1\u001b[0m\n",
      "  20% of total patterns\n",
      "\u001b[1m- Cluster 2\u001b[0m\n",
      "  20% of total patterns\n",
      "\u001b[1m- Cluster 3\u001b[0m\n",
      "  20% of total patterns\n",
      "\u001b[1m- Cluster 4\u001b[0m\n",
      "  20% of total patterns\n",
      "Clustering algorithm was correct 533 out of 4000 (13.3%)\n"
     ]
    }
   ],
   "source": [
    "\n",
    "\n",
    "#check covariance types\n",
    "#parameters = {'covariance_type': ('spherical', 'tied', 'diag', 'full')}\n",
    "#construct grid search object that uses 5 fold cross validation\n",
    "#classifier = GridSearchCV(GMM(n_components=5),parameters,cv=5)\n",
    "#fit the data\n",
    "gmm = GMM(n_components=4)\n",
    "gmm.fit(X_train)\n",
    "#plot the number of Gaussians against their rank\n",
    "#plt.scatter(clf.cv_results_['param_covariance_type'],\\\n",
    "#            clf.cv_results_['rank_test_score'])\n",
    "y_gmm = gmm.predict(X)\n",
    "results_clustering(y,y_gmm,[1,2,3,4])"
   ]
  },
  {
   "cell_type": "code",
   "execution_count": null,
   "metadata": {},
   "outputs": [],
   "source": [
    "results_clustering(y,y_gmm,[1,2,3,4])"
   ]
  },
  {
   "cell_type": "code",
   "execution_count": null,
   "metadata": {},
   "outputs": [],
   "source": [
    "cluster = AgglomerativeClustering(n_clusters=5, affinity='euclidean', linkage='ward')  \n",
    "cluster.fit_predict(X)  \n",
    "results_clustering(y,y_gmm,[1,2,3,4])"
   ]
  }
 ],
 "metadata": {
  "kernelspec": {
   "display_name": "Python 3",
   "language": "python",
   "name": "python3"
  },
  "language_info": {
   "codemirror_mode": {
    "name": "ipython",
    "version": 3
   },
   "file_extension": ".py",
   "mimetype": "text/x-python",
   "name": "python",
   "nbconvert_exporter": "python",
   "pygments_lexer": "ipython3",
   "version": "3.7.1"
  }
 },
 "nbformat": 4,
 "nbformat_minor": 2
}
